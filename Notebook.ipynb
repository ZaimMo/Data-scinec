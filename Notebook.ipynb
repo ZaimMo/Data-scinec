{
  "metadata": {
    "kernelspec": {
      "name": "python",
      "display_name": "Python (Pyodide)",
      "language": "python"
    },
    "language_info": {
      "codemirror_mode": {
        "name": "python",
        "version": 3
      },
      "file_extension": ".py",
      "mimetype": "text/x-python",
      "name": "python",
      "nbconvert_exporter": "python",
      "pygments_lexer": "ipython3",
      "version": "3.8"
    }
  },
  "nbformat_minor": 4,
  "nbformat": 4,
  "cells": [
    {
      "cell_type": "raw",
      "source": "# = Data Science Tools and Ecosystem",
      "metadata": {}
    },
    {
      "cell_type": "markdown",
      "source": "\n# = Data Science Tools and Ecosystem\n",
      "metadata": {}
    },
    {
      "cell_type": "markdown",
      "source": "In this notebook, Data Science Tools and Ecosystem are summarized.",
      "metadata": {}
    },
    {
      "cell_type": "markdown",
      "source": "Some og the popular languages that Data Scientists use are:\n1. Python\n2. R\n3. SQL\n4. Julia\n",
      "metadata": {}
    },
    {
      "cell_type": "code",
      "source": "# Some of the commenly used libraries used by Data Scientists include:\n1. **Pandas** - For data manipulation and analysis.\n2. **NumPy** - For numerical computations.\n3. **Matplotlib** - For data visualization.\n4. **Seaborn** - For statistical data visualization.\n5. **Scikit-learn** - For machine learning algorithms.\n6. **TensorFlow** - For deep learning and neural networks.\n7. **Keras** - For building and training deep learning models.",
      "metadata": {
        "trusted": true
      },
      "outputs": [],
      "execution_count": null
    },
    {
      "cell_type": "markdown",
      "source": "Some of the commenly used libraries used by Data Scientists include:\n1. **Pandas** - For data manipulation and analysis.\n2. **NumPy** - For numerical computations.\n3. **Matplotlib** - For data visualization.\n4. **Seaborn** - For statistical data visualization.\n5. **Scikit-learn** - For machine learning algorithms.\n6. **TensorFlow** - For deep learning and neural networks.\n7. **Keras** - For building and training deep learning models.",
      "metadata": {}
    },
    {
      "cell_type": "raw",
      "source": "| Data Science Tools |\n|   -------------   |\n|Jupyter Notebook   |\n|RStudio            |\n|Apache Zeppelin    |",
      "metadata": {}
    },
    {
      "cell_type": "markdown",
      "source": "| Data Science Tools |\n|   -------------   |\n|Jupyter Notebook   |\n|RStudio            |\n|Apache Zeppelin    |\n",
      "metadata": {}
    },
    {
      "cell_type": "code",
      "source": "# Below are a few examples of evaluating arithmetic expressions in Python.\n",
      "metadata": {
        "trusted": true
      },
      "outputs": [],
      "execution_count": null
    },
    {
      "cell_type": "markdown",
      "source": "### Below are a few examples of evaluating arithmetic expressions in Python.\n",
      "metadata": {}
    },
    {
      "cell_type": "raw",
      "source": "# This a simple arithmetic expression to mutiply then add integers",
      "metadata": {}
    },
    {
      "cell_type": "code",
      "source": "(3*4)+",
      "metadata": {
        "trusted": true
      },
      "outputs": [
        {
          "execution_count": 1,
          "output_type": "execute_result",
          "data": {
            "text/plain": "17"
          },
          "metadata": {}
        }
      ],
      "execution_count": 1
    },
    {
      "cell_type": "code",
      "source": "# This will convert 200 minutes to hours by diving by 60.",
      "metadata": {
        "trusted": true
      },
      "outputs": [],
      "execution_count": null
    },
    {
      "cell_type": "code",
      "source": "hours = 200 / 60\nhours",
      "metadata": {
        "trusted": true
      },
      "outputs": [
        {
          "execution_count": 5,
          "output_type": "execute_result",
          "data": {
            "text/plain": "3.3333333333333335"
          },
          "metadata": {}
        }
      ],
      "execution_count": 5
    },
    {
      "cell_type": "markdown",
      "source": "**Objectives:**\n",
      "metadata": {}
    },
    {
      "cell_type": "markdown",
      "source": "- List popular languages for Data Science\n- Explain commonly used Data Science libraries\n- Create tables and lists in Jupyter Notebook using Markdown\n- Convert units of time (minutes to hours)\n- Understand development environments used in Data Science\n",
      "metadata": {}
    },
    {
      "cell_type": "markdown",
      "source": "## Author\nMZaim",
      "metadata": {}
    },
    {
      "cell_type": "code",
      "source": "",
      "metadata": {
        "trusted": true
      },
      "outputs": [],
      "execution_count": null
    }
  ]
}